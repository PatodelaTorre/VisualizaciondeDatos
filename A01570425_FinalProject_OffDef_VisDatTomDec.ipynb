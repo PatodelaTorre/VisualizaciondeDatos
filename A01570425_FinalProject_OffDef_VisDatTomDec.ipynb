{
 "cells": [
  {
   "cell_type": "markdown",
   "id": "b60abc89",
   "metadata": {},
   "source": [
    "JORGE ADRIÁN CARO CASTILLO A01570425"
   ]
  },
  {
   "cell_type": "markdown",
   "id": "759d4ef4",
   "metadata": {},
   "source": [
    "Final Project \"Madden Ratings\" Offense/Defense"
   ]
  },
  {
   "cell_type": "code",
   "execution_count": 90,
   "id": "87222fc1",
   "metadata": {
    "id": "87222fc1"
   },
   "outputs": [],
   "source": [
    "import matplotlib.pyplot as plt\n",
    "import seaborn as sns\n",
    "import pandas as pd\n",
    "\n",
    "import statsmodels.api as sm\n",
    "import numpy as np\n",
    "#from sklearn import linear_model"
   ]
  },
  {
   "cell_type": "code",
   "execution_count": 91,
   "id": "770d9241",
   "metadata": {},
   "outputs": [
    {
     "data": {
      "text/html": [
       "<div>\n",
       "<style scoped>\n",
       "    .dataframe tbody tr th:only-of-type {\n",
       "        vertical-align: middle;\n",
       "    }\n",
       "\n",
       "    .dataframe tbody tr th {\n",
       "        vertical-align: top;\n",
       "    }\n",
       "\n",
       "    .dataframe thead th {\n",
       "        text-align: right;\n",
       "    }\n",
       "</style>\n",
       "<table border=\"1\" class=\"dataframe\">\n",
       "  <thead>\n",
       "    <tr style=\"text-align: right;\">\n",
       "      <th></th>\n",
       "      <th>Team</th>\n",
       "      <th>Full Name</th>\n",
       "      <th>Overall Rating</th>\n",
       "      <th>Off_Def</th>\n",
       "      <th>Position</th>\n",
       "      <th>Age</th>\n",
       "      <th>Speed</th>\n",
       "      <th>Acceleration</th>\n",
       "      <th>Awareness</th>\n",
       "      <th>Agility</th>\n",
       "      <th>...</th>\n",
       "      <th>Jersey Number</th>\n",
       "      <th>Total Salary</th>\n",
       "      <th>Signing Bonus</th>\n",
       "      <th>Archetype</th>\n",
       "      <th>Running Style</th>\n",
       "      <th>Years Pro</th>\n",
       "      <th>Height</th>\n",
       "      <th>Weight</th>\n",
       "      <th>Birthdate</th>\n",
       "      <th>College</th>\n",
       "    </tr>\n",
       "  </thead>\n",
       "  <tbody>\n",
       "    <tr>\n",
       "      <th>0</th>\n",
       "      <td>Rams</td>\n",
       "      <td>Aaron Donald</td>\n",
       "      <td>99</td>\n",
       "      <td>Defense</td>\n",
       "      <td>RE</td>\n",
       "      <td>29</td>\n",
       "      <td>82</td>\n",
       "      <td>90</td>\n",
       "      <td>99</td>\n",
       "      <td>86</td>\n",
       "      <td>...</td>\n",
       "      <td>99</td>\n",
       "      <td>$101,892,000.00</td>\n",
       "      <td>$40,000,000.00</td>\n",
       "      <td>DE_PowerRusher</td>\n",
       "      <td>Default Stride Loose</td>\n",
       "      <td>6</td>\n",
       "      <td>73</td>\n",
       "      <td>280</td>\n",
       "      <td>5/23/1991</td>\n",
       "      <td>Pittsburgh</td>\n",
       "    </tr>\n",
       "    <tr>\n",
       "      <th>1</th>\n",
       "      <td>Patriots</td>\n",
       "      <td>Stephon Gilmore</td>\n",
       "      <td>99</td>\n",
       "      <td>Defense</td>\n",
       "      <td>CB</td>\n",
       "      <td>29</td>\n",
       "      <td>92</td>\n",
       "      <td>94</td>\n",
       "      <td>99</td>\n",
       "      <td>94</td>\n",
       "      <td>...</td>\n",
       "      <td>24</td>\n",
       "      <td>$33,550,000.00</td>\n",
       "      <td>$31,450,000.00</td>\n",
       "      <td>CB_MantoMan</td>\n",
       "      <td>Default</td>\n",
       "      <td>8</td>\n",
       "      <td>73</td>\n",
       "      <td>202</td>\n",
       "      <td>9/19/1990</td>\n",
       "      <td>South Carolina</td>\n",
       "    </tr>\n",
       "    <tr>\n",
       "      <th>2</th>\n",
       "      <td>Panthers</td>\n",
       "      <td>Christian McCaffrey</td>\n",
       "      <td>99</td>\n",
       "      <td>Offense</td>\n",
       "      <td>HB</td>\n",
       "      <td>24</td>\n",
       "      <td>92</td>\n",
       "      <td>93</td>\n",
       "      <td>97</td>\n",
       "      <td>97</td>\n",
       "      <td>...</td>\n",
       "      <td>22</td>\n",
       "      <td>$45,840,000.00</td>\n",
       "      <td>$32,190,000.00</td>\n",
       "      <td>HB_ReceivingBack</td>\n",
       "      <td>Short Stride Default</td>\n",
       "      <td>3</td>\n",
       "      <td>71</td>\n",
       "      <td>205</td>\n",
       "      <td>06/07/96</td>\n",
       "      <td>Stanford</td>\n",
       "    </tr>\n",
       "    <tr>\n",
       "      <th>3</th>\n",
       "      <td>Chiefs</td>\n",
       "      <td>Patrick Mahomes</td>\n",
       "      <td>99</td>\n",
       "      <td>Offense</td>\n",
       "      <td>QB</td>\n",
       "      <td>24</td>\n",
       "      <td>81</td>\n",
       "      <td>87</td>\n",
       "      <td>97</td>\n",
       "      <td>88</td>\n",
       "      <td>...</td>\n",
       "      <td>15</td>\n",
       "      <td>$6,840,000.00</td>\n",
       "      <td>$34,420,000.00</td>\n",
       "      <td>QB_Improviser</td>\n",
       "      <td>Default</td>\n",
       "      <td>3</td>\n",
       "      <td>75</td>\n",
       "      <td>230</td>\n",
       "      <td>9/17/1995</td>\n",
       "      <td>Texas Tech</td>\n",
       "    </tr>\n",
       "    <tr>\n",
       "      <th>4</th>\n",
       "      <td>Saints</td>\n",
       "      <td>Michael Thomas</td>\n",
       "      <td>99</td>\n",
       "      <td>Offense</td>\n",
       "      <td>WR</td>\n",
       "      <td>27</td>\n",
       "      <td>89</td>\n",
       "      <td>92</td>\n",
       "      <td>99</td>\n",
       "      <td>92</td>\n",
       "      <td>...</td>\n",
       "      <td>13</td>\n",
       "      <td>$62,750,000.00</td>\n",
       "      <td>$35,130,000.00</td>\n",
       "      <td>WR_RouteRunner</td>\n",
       "      <td>Default</td>\n",
       "      <td>4</td>\n",
       "      <td>75</td>\n",
       "      <td>212</td>\n",
       "      <td>03/03/93</td>\n",
       "      <td>Ohio State</td>\n",
       "    </tr>\n",
       "  </tbody>\n",
       "</table>\n",
       "<p>5 rows × 70 columns</p>\n",
       "</div>"
      ],
      "text/plain": [
       "       Team            Full Name  Overall Rating  Off_Def Position  Age  \\\n",
       "0      Rams         Aaron Donald              99  Defense       RE   29   \n",
       "1  Patriots      Stephon Gilmore              99  Defense       CB   29   \n",
       "2  Panthers  Christian McCaffrey              99  Offense       HB   24   \n",
       "3    Chiefs      Patrick Mahomes              99  Offense       QB   24   \n",
       "4    Saints       Michael Thomas              99  Offense       WR   27   \n",
       "\n",
       "   Speed  Acceleration  Awareness  Agility  ...  Jersey Number  \\\n",
       "0     82            90         99       86  ...             99   \n",
       "1     92            94         99       94  ...             24   \n",
       "2     92            93         97       97  ...             22   \n",
       "3     81            87         97       88  ...             15   \n",
       "4     89            92         99       92  ...             13   \n",
       "\n",
       "     Total Salary    Signing Bonus          Archetype         Running Style  \\\n",
       "0  $101,892,000.00   $40,000,000.00    DE_PowerRusher  Default Stride Loose   \n",
       "1   $33,550,000.00   $31,450,000.00       CB_MantoMan               Default   \n",
       "2   $45,840,000.00   $32,190,000.00  HB_ReceivingBack  Short Stride Default   \n",
       "3    $6,840,000.00   $34,420,000.00     QB_Improviser               Default   \n",
       "4   $62,750,000.00   $35,130,000.00    WR_RouteRunner               Default   \n",
       "\n",
       "   Years Pro  Height  Weight  Birthdate         College  \n",
       "0          6      73     280  5/23/1991      Pittsburgh  \n",
       "1          8      73     202  9/19/1990  South Carolina  \n",
       "2          3      71     205   06/07/96        Stanford  \n",
       "3          3      75     230  9/17/1995      Texas Tech  \n",
       "4          4      75     212   03/03/93      Ohio State  \n",
       "\n",
       "[5 rows x 70 columns]"
      ]
     },
     "execution_count": 91,
     "metadata": {},
     "output_type": "execute_result"
    }
   ],
   "source": [
    "df = pd.read_csv('madden21_off_def_ratings2.csv')\n",
    "df.head()"
   ]
  },
  {
   "cell_type": "code",
   "execution_count": 92,
   "id": "d2a6fca7",
   "metadata": {},
   "outputs": [
    {
     "data": {
      "text/plain": [
       "(2293, 70)"
      ]
     },
     "execution_count": 92,
     "metadata": {},
     "output_type": "execute_result"
    }
   ],
   "source": [
    "df.shape"
   ]
  },
  {
   "cell_type": "code",
   "execution_count": 93,
   "id": "cce64a13",
   "metadata": {},
   "outputs": [
    {
     "data": {
      "text/plain": [
       "Index(['Team', 'Full Name', 'Overall Rating', 'Off_Def', 'Position', 'Age',\n",
       "       'Speed', 'Acceleration', 'Awareness', 'Agility', 'Strength',\n",
       "       'Throw Power', 'Throw On The Run', 'Throw Under Pressure',\n",
       "       'Throw Accuracy Short', 'Throw Accuracy Mid', 'Throw Accuracy Deep',\n",
       "       'Release', 'Ball Carrier Vision', 'Stamina', 'Carrying', 'Play Action',\n",
       "       'Pursuit', 'Play Recognition', 'Short Route Running',\n",
       "       'Medium Route Running', 'Deep Route Running', 'Catch In Traffic',\n",
       "       'Catching', 'Spin Move', 'Finesse Moves', 'Spectacular Catch',\n",
       "       'Jumping', 'Tackle', 'Zone Coverage', 'Man Coverage', 'Trucking',\n",
       "       'Juke Move', 'Break Sack', 'Toughness', 'Stiff Arm', 'Power Moves',\n",
       "       'Lead Blocking', 'Run Block Power', 'Run Blocking', 'Hit Power',\n",
       "       'Pass Block Finesse', 'Pass Block Power', 'Pass Blocking',\n",
       "       'Impact Blocking', 'Kick Return', 'Kick Accuracy', 'Break Tackle',\n",
       "       'Kick Power', 'Change Of Direction', 'Press', 'Block Shedding',\n",
       "       'Run Block Finesse', 'Injury', 'Player Handedness', 'Jersey Number',\n",
       "       ' Total Salary ', ' Signing Bonus ', 'Archetype', 'Running Style',\n",
       "       'Years Pro', 'Height', 'Weight', 'Birthdate', 'College'],\n",
       "      dtype='object')"
      ]
     },
     "execution_count": 93,
     "metadata": {},
     "output_type": "execute_result"
    }
   ],
   "source": [
    "df.columns"
   ]
  },
  {
   "cell_type": "markdown",
   "id": "8b482a7f",
   "metadata": {},
   "source": [
    "## Correlación (variables numéricas)"
   ]
  },
  {
   "cell_type": "code",
   "execution_count": 99,
   "id": "3f034de4",
   "metadata": {
    "id": "3f034de4",
    "outputId": "51444c03-9cdb-4a1d-a82a-d3d7a40c6ca3"
   },
   "outputs": [
    {
     "data": {
      "text/html": [
       "<div>\n",
       "<style scoped>\n",
       "    .dataframe tbody tr th:only-of-type {\n",
       "        vertical-align: middle;\n",
       "    }\n",
       "\n",
       "    .dataframe tbody tr th {\n",
       "        vertical-align: top;\n",
       "    }\n",
       "\n",
       "    .dataframe thead th {\n",
       "        text-align: right;\n",
       "    }\n",
       "</style>\n",
       "<table border=\"1\" class=\"dataframe\">\n",
       "  <thead>\n",
       "    <tr style=\"text-align: right;\">\n",
       "      <th></th>\n",
       "      <th>Overall Rating</th>\n",
       "      <th>Carrying</th>\n",
       "      <th>Catching</th>\n",
       "      <th>Juke Move</th>\n",
       "      <th>Throw Power</th>\n",
       "      <th>Short Route Running</th>\n",
       "      <th>Spin Move</th>\n",
       "      <th>Break Tackle</th>\n",
       "    </tr>\n",
       "  </thead>\n",
       "  <tbody>\n",
       "    <tr>\n",
       "      <th>Overall Rating</th>\n",
       "      <td>1.000000</td>\n",
       "      <td>0.163355</td>\n",
       "      <td>0.208120</td>\n",
       "      <td>0.188078</td>\n",
       "      <td>-0.011331</td>\n",
       "      <td>0.123560</td>\n",
       "      <td>0.192364</td>\n",
       "      <td>0.188769</td>\n",
       "    </tr>\n",
       "    <tr>\n",
       "      <th>Carrying</th>\n",
       "      <td>0.163355</td>\n",
       "      <td>1.000000</td>\n",
       "      <td>0.823814</td>\n",
       "      <td>0.848533</td>\n",
       "      <td>0.290396</td>\n",
       "      <td>0.750881</td>\n",
       "      <td>0.853072</td>\n",
       "      <td>0.847908</td>\n",
       "    </tr>\n",
       "    <tr>\n",
       "      <th>Catching</th>\n",
       "      <td>0.208120</td>\n",
       "      <td>0.823814</td>\n",
       "      <td>1.000000</td>\n",
       "      <td>0.834688</td>\n",
       "      <td>0.065872</td>\n",
       "      <td>0.790068</td>\n",
       "      <td>0.836059</td>\n",
       "      <td>0.797472</td>\n",
       "    </tr>\n",
       "    <tr>\n",
       "      <th>Juke Move</th>\n",
       "      <td>0.188078</td>\n",
       "      <td>0.848533</td>\n",
       "      <td>0.834688</td>\n",
       "      <td>1.000000</td>\n",
       "      <td>0.290576</td>\n",
       "      <td>0.716687</td>\n",
       "      <td>0.978214</td>\n",
       "      <td>0.932004</td>\n",
       "    </tr>\n",
       "    <tr>\n",
       "      <th>Throw Power</th>\n",
       "      <td>-0.011331</td>\n",
       "      <td>0.290396</td>\n",
       "      <td>0.065872</td>\n",
       "      <td>0.290576</td>\n",
       "      <td>1.000000</td>\n",
       "      <td>0.150173</td>\n",
       "      <td>0.273094</td>\n",
       "      <td>0.328390</td>\n",
       "    </tr>\n",
       "    <tr>\n",
       "      <th>Short Route Running</th>\n",
       "      <td>0.123560</td>\n",
       "      <td>0.750881</td>\n",
       "      <td>0.790068</td>\n",
       "      <td>0.716687</td>\n",
       "      <td>0.150173</td>\n",
       "      <td>1.000000</td>\n",
       "      <td>0.731770</td>\n",
       "      <td>0.803790</td>\n",
       "    </tr>\n",
       "    <tr>\n",
       "      <th>Spin Move</th>\n",
       "      <td>0.192364</td>\n",
       "      <td>0.853072</td>\n",
       "      <td>0.836059</td>\n",
       "      <td>0.978214</td>\n",
       "      <td>0.273094</td>\n",
       "      <td>0.731770</td>\n",
       "      <td>1.000000</td>\n",
       "      <td>0.930503</td>\n",
       "    </tr>\n",
       "    <tr>\n",
       "      <th>Break Tackle</th>\n",
       "      <td>0.188769</td>\n",
       "      <td>0.847908</td>\n",
       "      <td>0.797472</td>\n",
       "      <td>0.932004</td>\n",
       "      <td>0.328390</td>\n",
       "      <td>0.803790</td>\n",
       "      <td>0.930503</td>\n",
       "      <td>1.000000</td>\n",
       "    </tr>\n",
       "  </tbody>\n",
       "</table>\n",
       "</div>"
      ],
      "text/plain": [
       "                     Overall Rating  Carrying  Catching  Juke Move  \\\n",
       "Overall Rating             1.000000  0.163355  0.208120   0.188078   \n",
       "Carrying                   0.163355  1.000000  0.823814   0.848533   \n",
       "Catching                   0.208120  0.823814  1.000000   0.834688   \n",
       "Juke Move                  0.188078  0.848533  0.834688   1.000000   \n",
       "Throw Power               -0.011331  0.290396  0.065872   0.290576   \n",
       "Short Route Running        0.123560  0.750881  0.790068   0.716687   \n",
       "Spin Move                  0.192364  0.853072  0.836059   0.978214   \n",
       "Break Tackle               0.188769  0.847908  0.797472   0.932004   \n",
       "\n",
       "                     Throw Power  Short Route Running  Spin Move  Break Tackle  \n",
       "Overall Rating         -0.011331             0.123560   0.192364      0.188769  \n",
       "Carrying                0.290396             0.750881   0.853072      0.847908  \n",
       "Catching                0.065872             0.790068   0.836059      0.797472  \n",
       "Juke Move               0.290576             0.716687   0.978214      0.932004  \n",
       "Throw Power             1.000000             0.150173   0.273094      0.328390  \n",
       "Short Route Running     0.150173             1.000000   0.731770      0.803790  \n",
       "Spin Move               0.273094             0.731770   1.000000      0.930503  \n",
       "Break Tackle            0.328390             0.803790   0.930503      1.000000  "
      ]
     },
     "execution_count": 99,
     "metadata": {},
     "output_type": "execute_result"
    }
   ],
   "source": [
    "vars = ['Overall Rating','Carrying','Catching','Juke Move','Throw Power','Short Route Running','Spin Move','Break Tackle']\n",
    "\n",
    "df = df[vars].dropna()\n",
    "\n",
    "df[vars].corr()"
   ]
  },
  {
   "cell_type": "markdown",
   "id": "b0e1cadf",
   "metadata": {},
   "source": [
    "## Entrenamiento y prueba"
   ]
  },
  {
   "cell_type": "code",
   "execution_count": 136,
   "id": "b62499b4",
   "metadata": {
    "id": "b62499b4"
   },
   "outputs": [
    {
     "ename": "KeyError",
     "evalue": "\"['Off_Def'] not in index\"",
     "output_type": "error",
     "traceback": [
      "\u001b[0;31m---------------------------------------------------------------------------\u001b[0m",
      "\u001b[0;31mKeyError\u001b[0m                                  Traceback (most recent call last)",
      "\u001b[0;32m<ipython-input-136-37ccc9fc8652>\u001b[0m in \u001b[0;36m<module>\u001b[0;34m\u001b[0m\n\u001b[0;32m----> 1\u001b[0;31m \u001b[0mX\u001b[0m \u001b[0;34m=\u001b[0m \u001b[0mpd\u001b[0m\u001b[0;34m.\u001b[0m\u001b[0mDataFrame\u001b[0m\u001b[0;34m(\u001b[0m\u001b[0mdf\u001b[0m\u001b[0;34m[\u001b[0m\u001b[0;34m[\u001b[0m\u001b[0;34m'Carrying'\u001b[0m\u001b[0;34m,\u001b[0m\u001b[0;34m'Catching'\u001b[0m\u001b[0;34m,\u001b[0m\u001b[0;34m'Juke Move'\u001b[0m\u001b[0;34m,\u001b[0m\u001b[0;34m'Throw Power'\u001b[0m\u001b[0;34m,\u001b[0m\u001b[0;34m'Short Route Running'\u001b[0m\u001b[0;34m,\u001b[0m\u001b[0;34m'Spin Move'\u001b[0m\u001b[0;34m,\u001b[0m\u001b[0;34m'Break Tackle'\u001b[0m\u001b[0;34m,\u001b[0m\u001b[0;34m'Off_Def'\u001b[0m\u001b[0;34m]\u001b[0m\u001b[0;34m]\u001b[0m\u001b[0;34m)\u001b[0m \u001b[0;31m#independiente\u001b[0m\u001b[0;34m\u001b[0m\u001b[0;34m\u001b[0m\u001b[0m\n\u001b[0m\u001b[1;32m      2\u001b[0m \u001b[0mX\u001b[0m \u001b[0;34m=\u001b[0m \u001b[0msm\u001b[0m\u001b[0;34m.\u001b[0m\u001b[0madd_constant\u001b[0m\u001b[0;34m(\u001b[0m\u001b[0mX\u001b[0m\u001b[0;34m)\u001b[0m\u001b[0;34m\u001b[0m\u001b[0;34m\u001b[0m\u001b[0m\n\u001b[1;32m      3\u001b[0m \u001b[0mY\u001b[0m \u001b[0;34m=\u001b[0m \u001b[0mpd\u001b[0m\u001b[0;34m.\u001b[0m\u001b[0mDataFrame\u001b[0m\u001b[0;34m(\u001b[0m\u001b[0mdf\u001b[0m\u001b[0;34m[\u001b[0m\u001b[0;34m'Overall Rating'\u001b[0m\u001b[0;34m]\u001b[0m\u001b[0;34m)\u001b[0m \u001b[0;31m#dependiente\u001b[0m\u001b[0;34m\u001b[0m\u001b[0;34m\u001b[0m\u001b[0m\n",
      "\u001b[0;32m~/opt/anaconda3/lib/python3.8/site-packages/pandas/core/frame.py\u001b[0m in \u001b[0;36m__getitem__\u001b[0;34m(self, key)\u001b[0m\n\u001b[1;32m   3028\u001b[0m             \u001b[0;32mif\u001b[0m \u001b[0mis_iterator\u001b[0m\u001b[0;34m(\u001b[0m\u001b[0mkey\u001b[0m\u001b[0;34m)\u001b[0m\u001b[0;34m:\u001b[0m\u001b[0;34m\u001b[0m\u001b[0;34m\u001b[0m\u001b[0m\n\u001b[1;32m   3029\u001b[0m                 \u001b[0mkey\u001b[0m \u001b[0;34m=\u001b[0m \u001b[0mlist\u001b[0m\u001b[0;34m(\u001b[0m\u001b[0mkey\u001b[0m\u001b[0;34m)\u001b[0m\u001b[0;34m\u001b[0m\u001b[0;34m\u001b[0m\u001b[0m\n\u001b[0;32m-> 3030\u001b[0;31m             \u001b[0mindexer\u001b[0m \u001b[0;34m=\u001b[0m \u001b[0mself\u001b[0m\u001b[0;34m.\u001b[0m\u001b[0mloc\u001b[0m\u001b[0;34m.\u001b[0m\u001b[0m_get_listlike_indexer\u001b[0m\u001b[0;34m(\u001b[0m\u001b[0mkey\u001b[0m\u001b[0;34m,\u001b[0m \u001b[0maxis\u001b[0m\u001b[0;34m=\u001b[0m\u001b[0;36m1\u001b[0m\u001b[0;34m,\u001b[0m \u001b[0mraise_missing\u001b[0m\u001b[0;34m=\u001b[0m\u001b[0;32mTrue\u001b[0m\u001b[0;34m)\u001b[0m\u001b[0;34m[\u001b[0m\u001b[0;36m1\u001b[0m\u001b[0;34m]\u001b[0m\u001b[0;34m\u001b[0m\u001b[0;34m\u001b[0m\u001b[0m\n\u001b[0m\u001b[1;32m   3031\u001b[0m \u001b[0;34m\u001b[0m\u001b[0m\n\u001b[1;32m   3032\u001b[0m         \u001b[0;31m# take() does not accept boolean indexers\u001b[0m\u001b[0;34m\u001b[0m\u001b[0;34m\u001b[0m\u001b[0;34m\u001b[0m\u001b[0m\n",
      "\u001b[0;32m~/opt/anaconda3/lib/python3.8/site-packages/pandas/core/indexing.py\u001b[0m in \u001b[0;36m_get_listlike_indexer\u001b[0;34m(self, key, axis, raise_missing)\u001b[0m\n\u001b[1;32m   1264\u001b[0m             \u001b[0mkeyarr\u001b[0m\u001b[0;34m,\u001b[0m \u001b[0mindexer\u001b[0m\u001b[0;34m,\u001b[0m \u001b[0mnew_indexer\u001b[0m \u001b[0;34m=\u001b[0m \u001b[0max\u001b[0m\u001b[0;34m.\u001b[0m\u001b[0m_reindex_non_unique\u001b[0m\u001b[0;34m(\u001b[0m\u001b[0mkeyarr\u001b[0m\u001b[0;34m)\u001b[0m\u001b[0;34m\u001b[0m\u001b[0;34m\u001b[0m\u001b[0m\n\u001b[1;32m   1265\u001b[0m \u001b[0;34m\u001b[0m\u001b[0m\n\u001b[0;32m-> 1266\u001b[0;31m         \u001b[0mself\u001b[0m\u001b[0;34m.\u001b[0m\u001b[0m_validate_read_indexer\u001b[0m\u001b[0;34m(\u001b[0m\u001b[0mkeyarr\u001b[0m\u001b[0;34m,\u001b[0m \u001b[0mindexer\u001b[0m\u001b[0;34m,\u001b[0m \u001b[0maxis\u001b[0m\u001b[0;34m,\u001b[0m \u001b[0mraise_missing\u001b[0m\u001b[0;34m=\u001b[0m\u001b[0mraise_missing\u001b[0m\u001b[0;34m)\u001b[0m\u001b[0;34m\u001b[0m\u001b[0;34m\u001b[0m\u001b[0m\n\u001b[0m\u001b[1;32m   1267\u001b[0m         \u001b[0;32mreturn\u001b[0m \u001b[0mkeyarr\u001b[0m\u001b[0;34m,\u001b[0m \u001b[0mindexer\u001b[0m\u001b[0;34m\u001b[0m\u001b[0;34m\u001b[0m\u001b[0m\n\u001b[1;32m   1268\u001b[0m \u001b[0;34m\u001b[0m\u001b[0m\n",
      "\u001b[0;32m~/opt/anaconda3/lib/python3.8/site-packages/pandas/core/indexing.py\u001b[0m in \u001b[0;36m_validate_read_indexer\u001b[0;34m(self, key, indexer, axis, raise_missing)\u001b[0m\n\u001b[1;32m   1314\u001b[0m             \u001b[0;32mif\u001b[0m \u001b[0mraise_missing\u001b[0m\u001b[0;34m:\u001b[0m\u001b[0;34m\u001b[0m\u001b[0;34m\u001b[0m\u001b[0m\n\u001b[1;32m   1315\u001b[0m                 \u001b[0mnot_found\u001b[0m \u001b[0;34m=\u001b[0m \u001b[0mlist\u001b[0m\u001b[0;34m(\u001b[0m\u001b[0mset\u001b[0m\u001b[0;34m(\u001b[0m\u001b[0mkey\u001b[0m\u001b[0;34m)\u001b[0m \u001b[0;34m-\u001b[0m \u001b[0mset\u001b[0m\u001b[0;34m(\u001b[0m\u001b[0max\u001b[0m\u001b[0;34m)\u001b[0m\u001b[0;34m)\u001b[0m\u001b[0;34m\u001b[0m\u001b[0;34m\u001b[0m\u001b[0m\n\u001b[0;32m-> 1316\u001b[0;31m                 \u001b[0;32mraise\u001b[0m \u001b[0mKeyError\u001b[0m\u001b[0;34m(\u001b[0m\u001b[0;34mf\"{not_found} not in index\"\u001b[0m\u001b[0;34m)\u001b[0m\u001b[0;34m\u001b[0m\u001b[0;34m\u001b[0m\u001b[0m\n\u001b[0m\u001b[1;32m   1317\u001b[0m \u001b[0;34m\u001b[0m\u001b[0m\n\u001b[1;32m   1318\u001b[0m             \u001b[0mnot_found\u001b[0m \u001b[0;34m=\u001b[0m \u001b[0mkey\u001b[0m\u001b[0;34m[\u001b[0m\u001b[0mmissing_mask\u001b[0m\u001b[0;34m]\u001b[0m\u001b[0;34m\u001b[0m\u001b[0;34m\u001b[0m\u001b[0m\n",
      "\u001b[0;31mKeyError\u001b[0m: \"['Off_Def'] not in index\""
     ]
    }
   ],
   "source": [
    "X = pd.DataFrame(df[['Carrying','Catching','Juke Move','Throw Power','Short Route Running','Spin Move','Break Tackle','Off_Def']]) #independiente\n",
    "X = sm.add_constant(X)\n",
    "Y = pd.DataFrame(df['Overall Rating']) #dependiente"
   ]
  },
  {
   "cell_type": "code",
   "execution_count": 137,
   "id": "a5588fe8",
   "metadata": {},
   "outputs": [],
   "source": [
    "from sklearn.model_selection import train_test_split\n",
    "X_train, X_test, y_train, y_test = train_test_split(X, Y, test_size=0.30, random_state=42)"
   ]
  },
  {
   "cell_type": "code",
   "execution_count": 138,
   "id": "83736632",
   "metadata": {
    "scrolled": true
   },
   "outputs": [
    {
     "data": {
      "text/html": [
       "<div>\n",
       "<style scoped>\n",
       "    .dataframe tbody tr th:only-of-type {\n",
       "        vertical-align: middle;\n",
       "    }\n",
       "\n",
       "    .dataframe tbody tr th {\n",
       "        vertical-align: top;\n",
       "    }\n",
       "\n",
       "    .dataframe thead th {\n",
       "        text-align: right;\n",
       "    }\n",
       "</style>\n",
       "<table border=\"1\" class=\"dataframe\">\n",
       "  <thead>\n",
       "    <tr style=\"text-align: right;\">\n",
       "      <th></th>\n",
       "      <th>const</th>\n",
       "      <th>Carrying</th>\n",
       "      <th>Catching</th>\n",
       "      <th>Juke Move</th>\n",
       "      <th>Throw Power</th>\n",
       "      <th>Short Route Running</th>\n",
       "      <th>Spin Move</th>\n",
       "      <th>Break Tackle</th>\n",
       "    </tr>\n",
       "  </thead>\n",
       "  <tbody>\n",
       "    <tr>\n",
       "      <th>0</th>\n",
       "      <td>1.0</td>\n",
       "      <td>48</td>\n",
       "      <td>42</td>\n",
       "      <td>28</td>\n",
       "      <td>20</td>\n",
       "      <td>16</td>\n",
       "      <td>25</td>\n",
       "      <td>17</td>\n",
       "    </tr>\n",
       "    <tr>\n",
       "      <th>1</th>\n",
       "      <td>1.0</td>\n",
       "      <td>62</td>\n",
       "      <td>76</td>\n",
       "      <td>80</td>\n",
       "      <td>43</td>\n",
       "      <td>15</td>\n",
       "      <td>53</td>\n",
       "      <td>67</td>\n",
       "    </tr>\n",
       "    <tr>\n",
       "      <th>2</th>\n",
       "      <td>1.0</td>\n",
       "      <td>98</td>\n",
       "      <td>82</td>\n",
       "      <td>96</td>\n",
       "      <td>44</td>\n",
       "      <td>83</td>\n",
       "      <td>92</td>\n",
       "      <td>83</td>\n",
       "    </tr>\n",
       "    <tr>\n",
       "      <th>3</th>\n",
       "      <td>1.0</td>\n",
       "      <td>63</td>\n",
       "      <td>37</td>\n",
       "      <td>72</td>\n",
       "      <td>97</td>\n",
       "      <td>27</td>\n",
       "      <td>69</td>\n",
       "      <td>76</td>\n",
       "    </tr>\n",
       "    <tr>\n",
       "      <th>4</th>\n",
       "      <td>1.0</td>\n",
       "      <td>77</td>\n",
       "      <td>99</td>\n",
       "      <td>89</td>\n",
       "      <td>24</td>\n",
       "      <td>99</td>\n",
       "      <td>79</td>\n",
       "      <td>82</td>\n",
       "    </tr>\n",
       "    <tr>\n",
       "      <th>...</th>\n",
       "      <td>...</td>\n",
       "      <td>...</td>\n",
       "      <td>...</td>\n",
       "      <td>...</td>\n",
       "      <td>...</td>\n",
       "      <td>...</td>\n",
       "      <td>...</td>\n",
       "      <td>...</td>\n",
       "    </tr>\n",
       "    <tr>\n",
       "      <th>2288</th>\n",
       "      <td>1.0</td>\n",
       "      <td>60</td>\n",
       "      <td>55</td>\n",
       "      <td>42</td>\n",
       "      <td>11</td>\n",
       "      <td>40</td>\n",
       "      <td>40</td>\n",
       "      <td>17</td>\n",
       "    </tr>\n",
       "    <tr>\n",
       "      <th>2289</th>\n",
       "      <td>1.0</td>\n",
       "      <td>64</td>\n",
       "      <td>56</td>\n",
       "      <td>37</td>\n",
       "      <td>26</td>\n",
       "      <td>35</td>\n",
       "      <td>25</td>\n",
       "      <td>15</td>\n",
       "    </tr>\n",
       "    <tr>\n",
       "      <th>2290</th>\n",
       "      <td>1.0</td>\n",
       "      <td>47</td>\n",
       "      <td>53</td>\n",
       "      <td>55</td>\n",
       "      <td>29</td>\n",
       "      <td>22</td>\n",
       "      <td>42</td>\n",
       "      <td>25</td>\n",
       "    </tr>\n",
       "    <tr>\n",
       "      <th>2291</th>\n",
       "      <td>1.0</td>\n",
       "      <td>58</td>\n",
       "      <td>47</td>\n",
       "      <td>54</td>\n",
       "      <td>29</td>\n",
       "      <td>22</td>\n",
       "      <td>42</td>\n",
       "      <td>25</td>\n",
       "    </tr>\n",
       "    <tr>\n",
       "      <th>2292</th>\n",
       "      <td>1.0</td>\n",
       "      <td>47</td>\n",
       "      <td>53</td>\n",
       "      <td>33</td>\n",
       "      <td>29</td>\n",
       "      <td>22</td>\n",
       "      <td>30</td>\n",
       "      <td>22</td>\n",
       "    </tr>\n",
       "  </tbody>\n",
       "</table>\n",
       "<p>2293 rows × 8 columns</p>\n",
       "</div>"
      ],
      "text/plain": [
       "      const  Carrying  Catching  Juke Move  Throw Power  Short Route Running  \\\n",
       "0       1.0        48        42         28           20                   16   \n",
       "1       1.0        62        76         80           43                   15   \n",
       "2       1.0        98        82         96           44                   83   \n",
       "3       1.0        63        37         72           97                   27   \n",
       "4       1.0        77        99         89           24                   99   \n",
       "...     ...       ...       ...        ...          ...                  ...   \n",
       "2288    1.0        60        55         42           11                   40   \n",
       "2289    1.0        64        56         37           26                   35   \n",
       "2290    1.0        47        53         55           29                   22   \n",
       "2291    1.0        58        47         54           29                   22   \n",
       "2292    1.0        47        53         33           29                   22   \n",
       "\n",
       "      Spin Move  Break Tackle  \n",
       "0            25            17  \n",
       "1            53            67  \n",
       "2            92            83  \n",
       "3            69            76  \n",
       "4            79            82  \n",
       "...         ...           ...  \n",
       "2288         40            17  \n",
       "2289         25            15  \n",
       "2290         42            25  \n",
       "2291         42            25  \n",
       "2292         30            22  \n",
       "\n",
       "[2293 rows x 8 columns]"
      ]
     },
     "execution_count": 138,
     "metadata": {},
     "output_type": "execute_result"
    }
   ],
   "source": [
    "X"
   ]
  },
  {
   "cell_type": "code",
   "execution_count": 139,
   "id": "53aa0546",
   "metadata": {},
   "outputs": [
    {
     "name": "stdout",
     "output_type": "stream",
     "text": [
      "      const  Carrying  Catching  Juke Move  Throw Power  Short Route Running  \\\n",
      "1472    1.0        78        79         74           29                   67   \n",
      "261     1.0        78        95         65           26                   71   \n",
      "952     1.0        39        35         10           11                   15   \n",
      "2138    1.0        30        30         10            9                   10   \n",
      "700     1.0        37        31         32           22                   10   \n",
      "\n",
      "      Spin Move  Break Tackle  \n",
      "1472         73            61  \n",
      "261          58            63  \n",
      "952          10             5  \n",
      "2138         10            10  \n",
      "700          26            33  \n",
      "(1605, 8)\n"
     ]
    }
   ],
   "source": [
    "print(X_train.head())\n",
    "print(X_train.shape)"
   ]
  },
  {
   "cell_type": "code",
   "execution_count": 140,
   "id": "5636a471",
   "metadata": {},
   "outputs": [
    {
     "name": "stdout",
     "output_type": "stream",
     "text": [
      "      const  Carrying  Catching  Juke Move  Throw Power  Short Route Running  \\\n",
      "1875    1.0        56        62         38           25                   15   \n",
      "2066    1.0        57        60         63           25                   29   \n",
      "1314    1.0        57        52         48           36                   21   \n",
      "1979    1.0        61        68         67           26                   22   \n",
      "1429    1.0        81        72         78           27                   71   \n",
      "\n",
      "      Spin Move  Break Tackle  \n",
      "1875         29            26  \n",
      "2066         60            41  \n",
      "1314         40            27  \n",
      "1979         60            43  \n",
      "1429         75            73  \n",
      "(688, 8)\n"
     ]
    }
   ],
   "source": [
    "print(X_test.head())\n",
    "print(X_test.shape)"
   ]
  },
  {
   "cell_type": "code",
   "execution_count": 141,
   "id": "0555ecb0",
   "metadata": {},
   "outputs": [
    {
     "name": "stdout",
     "output_type": "stream",
     "text": [
      "      Overall Rating\n",
      "1875              61\n",
      "2066              59\n",
      "1314              67\n",
      "1979              60\n",
      "1429              66\n",
      "(688, 1)\n"
     ]
    }
   ],
   "source": [
    "print(y_test.head())\n",
    "print(y_test.shape)"
   ]
  },
  {
   "cell_type": "markdown",
   "id": "8725d66e",
   "metadata": {},
   "source": [
    "## MODELO DE REGRESIÓN"
   ]
  },
  {
   "cell_type": "markdown",
   "id": "fef769e0",
   "metadata": {},
   "source": [
    "### ESCENARIO 1"
   ]
  },
  {
   "cell_type": "code",
   "execution_count": 142,
   "id": "c43206a0",
   "metadata": {
    "id": "c43206a0",
    "outputId": "6d234a69-ff86-4f58-86b1-e478f396ad9a"
   },
   "outputs": [],
   "source": [
    "model = sm.OLS(y_train, X_train)\n",
    "model = model.fit()"
   ]
  },
  {
   "cell_type": "code",
   "execution_count": 143,
   "id": "58def6c8",
   "metadata": {},
   "outputs": [
    {
     "data": {
      "text/plain": [
       "<statsmodels.regression.linear_model.RegressionResultsWrapper at 0x7fe584297c70>"
      ]
     },
     "execution_count": 143,
     "metadata": {},
     "output_type": "execute_result"
    }
   ],
   "source": [
    "model"
   ]
  },
  {
   "cell_type": "code",
   "execution_count": 144,
   "id": "b74f9d8e",
   "metadata": {},
   "outputs": [
    {
     "name": "stdout",
     "output_type": "stream",
     "text": [
      "                            OLS Regression Results                            \n",
      "==============================================================================\n",
      "Dep. Variable:         Overall Rating   R-squared:                       0.071\n",
      "Model:                            OLS   Adj. R-squared:                  0.067\n",
      "Method:                 Least Squares   F-statistic:                     17.55\n",
      "Date:                Wed, 20 Oct 2021   Prob (F-statistic):           1.56e-22\n",
      "Time:                        22:57:41   Log-Likelihood:                -5967.2\n",
      "No. Observations:                1605   AIC:                         1.195e+04\n",
      "Df Residuals:                    1597   BIC:                         1.199e+04\n",
      "Df Model:                           7                                         \n",
      "Covariance Type:            nonrobust                                         \n",
      "=======================================================================================\n",
      "                          coef    std err          t      P>|t|      [0.025      0.975]\n",
      "---------------------------------------------------------------------------------------\n",
      "const                  64.9041      1.140     56.942      0.000      62.668      67.140\n",
      "Carrying               -0.0329      0.031     -1.074      0.283      -0.093       0.027\n",
      "Catching                0.1513      0.029      5.152      0.000       0.094       0.209\n",
      "Juke Move              -0.0985      0.048     -2.034      0.042      -0.194      -0.004\n",
      "Throw Power            -0.0470      0.018     -2.544      0.011      -0.083      -0.011\n",
      "Short Route Running    -0.0919      0.021     -4.286      0.000      -0.134      -0.050\n",
      "Spin Move               0.0313      0.049      0.636      0.525      -0.065       0.128\n",
      "Break Tackle            0.1522      0.034      4.444      0.000       0.085       0.219\n",
      "==============================================================================\n",
      "Omnibus:                       76.299   Durbin-Watson:                   1.951\n",
      "Prob(Omnibus):                  0.000   Jarque-Bera (JB):              252.759\n",
      "Skew:                          -0.068   Prob(JB):                     1.30e-55\n",
      "Kurtosis:                       4.939   Cond. No.                         593.\n",
      "==============================================================================\n",
      "\n",
      "Notes:\n",
      "[1] Standard Errors assume that the covariance matrix of the errors is correctly specified.\n"
     ]
    }
   ],
   "source": [
    "print(model.summary())"
   ]
  },
  {
   "cell_type": "code",
   "execution_count": 145,
   "id": "034f04ed",
   "metadata": {},
   "outputs": [
    {
     "data": {
      "text/plain": [
       "1472    -6.054035\n",
       "261      8.030750\n",
       "952      3.887985\n",
       "2138   -11.965524\n",
       "700      4.890001\n",
       "          ...    \n",
       "1638    -9.649508\n",
       "1095    -0.838860\n",
       "1130    -2.759502\n",
       "1294    -1.201342\n",
       "860      5.742595\n",
       "Length: 1605, dtype: float64"
      ]
     },
     "execution_count": 145,
     "metadata": {},
     "output_type": "execute_result"
    }
   ],
   "source": [
    "residual_values = model.resid #valores residuales\n",
    "residual_values "
   ]
  },
  {
   "cell_type": "code",
   "execution_count": 146,
   "id": "84ac23a9",
   "metadata": {},
   "outputs": [
    {
     "data": {
      "text/plain": [
       "1472    71.054035\n",
       "261     73.969250\n",
       "952     67.112015\n",
       "2138    67.965524\n",
       "700     69.109999\n",
       "          ...    \n",
       "1638    73.649508\n",
       "1095    69.838860\n",
       "1130    71.759502\n",
       "1294    68.201342\n",
       "860     66.257405\n",
       "Length: 1605, dtype: float64"
      ]
     },
     "execution_count": 146,
     "metadata": {},
     "output_type": "execute_result"
    }
   ],
   "source": [
    "m1_pred = model.fittedvalues\n",
    "m1_pred"
   ]
  },
  {
   "cell_type": "code",
   "execution_count": 147,
   "id": "93a4d65e",
   "metadata": {},
   "outputs": [
    {
     "data": {
      "text/html": [
       "<div>\n",
       "<style scoped>\n",
       "    .dataframe tbody tr th:only-of-type {\n",
       "        vertical-align: middle;\n",
       "    }\n",
       "\n",
       "    .dataframe tbody tr th {\n",
       "        vertical-align: top;\n",
       "    }\n",
       "\n",
       "    .dataframe thead th {\n",
       "        text-align: right;\n",
       "    }\n",
       "</style>\n",
       "<table border=\"1\" class=\"dataframe\">\n",
       "  <thead>\n",
       "    <tr style=\"text-align: right;\">\n",
       "      <th></th>\n",
       "      <th>Overall Rating</th>\n",
       "    </tr>\n",
       "  </thead>\n",
       "  <tbody>\n",
       "    <tr>\n",
       "      <th>1472</th>\n",
       "      <td>65</td>\n",
       "    </tr>\n",
       "    <tr>\n",
       "      <th>261</th>\n",
       "      <td>82</td>\n",
       "    </tr>\n",
       "  </tbody>\n",
       "</table>\n",
       "</div>"
      ],
      "text/plain": [
       "      Overall Rating\n",
       "1472              65\n",
       "261               82"
      ]
     },
     "execution_count": 147,
     "metadata": {},
     "output_type": "execute_result"
    }
   ],
   "source": [
    "y_train.head(2)"
   ]
  },
  {
   "cell_type": "markdown",
   "id": "696af273",
   "metadata": {},
   "source": [
    "### Normalidad"
   ]
  },
  {
   "cell_type": "code",
   "execution_count": 148,
   "id": "b4b0118e",
   "metadata": {},
   "outputs": [
    {
     "data": {
      "text/plain": [
       "<AxesSubplot:ylabel='Count'>"
      ]
     },
     "execution_count": 148,
     "metadata": {},
     "output_type": "execute_result"
    },
    {
     "data": {
      "image/png": "[encoded data removed]",
      "text/plain": [
       "<Figure size 432x288 with 1 Axes>"
      ]
     },
     "metadata": {
      "needs_background": "light"
     },
     "output_type": "display_data"
    }
   ],
   "source": [
    "sns.histplot(model.resid)"
   ]
  },
  {
   "cell_type": "code",
   "execution_count": 149,
   "id": "88c8bbd0",
   "metadata": {},
   "outputs": [
    {
     "data": {
      "image/png": "[encoded data removed]",
      "text/plain": [
       "<Figure size 432x288 with 1 Axes>"
      ]
     },
     "metadata": {
      "needs_background": "light"
     },
     "output_type": "display_data"
    }
   ],
   "source": [
    "sm.qqplot(model.resid, line='s');"
   ]
  },
  {
   "cell_type": "code",
   "execution_count": 150,
   "id": "b3e160fe",
   "metadata": {},
   "outputs": [
    {
     "data": {
      "text/plain": [
       "ShapiroResult(statistic=0.9648491144180298, pvalue=2.6466625975611527e-19)"
      ]
     },
     "execution_count": 150,
     "metadata": {},
     "output_type": "execute_result"
    }
   ],
   "source": [
    "from scipy.stats import shapiro\n",
    "shapiro(model.resid)\n",
    "#no cumple con el requisito de normalidad"
   ]
  },
  {
   "cell_type": "markdown",
   "id": "0d4d20f8",
   "metadata": {},
   "source": [
    "## Homogeneidad de varianza (valores ajustados vs. residuales)"
   ]
  },
  {
   "cell_type": "code",
   "execution_count": 151,
   "id": "bbbed220",
   "metadata": {
    "id": "bbbed220",
    "outputId": "4fb28abb-b8b6-468d-f57a-2373f5bb5770"
   },
   "outputs": [
    {
     "data": {
      "image/png": "[encoded data removed]",
      "text/plain": [
       "<Figure size 1440x360 with 1 Axes>"
      ]
     },
     "metadata": {
      "needs_background": "light"
     },
     "output_type": "display_data"
    }
   ],
   "source": [
    "plt.figure(figsize=(20,5))\n",
    "plt.scatter(x = model.fittedvalues, y = model.resid)\n",
    "plt.grid(True)"
   ]
  },
  {
   "cell_type": "markdown",
   "id": "aba3788b",
   "metadata": {},
   "source": [
    "### Independencia"
   ]
  },
  {
   "cell_type": "code",
   "execution_count": 152,
   "id": "249b8c00",
   "metadata": {},
   "outputs": [
    {
     "data": {
      "text/plain": [
       "1472    -6.054035\n",
       "261      8.030750\n",
       "952      3.887985\n",
       "2138   -11.965524\n",
       "700      4.890001\n",
       "          ...    \n",
       "1638    -9.649508\n",
       "1095    -0.838860\n",
       "1130    -2.759502\n",
       "1294    -1.201342\n",
       "860      5.742595\n",
       "Length: 1605, dtype: float64"
      ]
     },
     "execution_count": 152,
     "metadata": {},
     "output_type": "execute_result"
    }
   ],
   "source": [
    "model.resid"
   ]
  },
  {
   "cell_type": "code",
   "execution_count": 153,
   "id": "c1f9bb04",
   "metadata": {},
   "outputs": [
    {
     "data": {
      "text/html": [
       "<div>\n",
       "<style scoped>\n",
       "    .dataframe tbody tr th:only-of-type {\n",
       "        vertical-align: middle;\n",
       "    }\n",
       "\n",
       "    .dataframe tbody tr th {\n",
       "        vertical-align: top;\n",
       "    }\n",
       "\n",
       "    .dataframe thead th {\n",
       "        text-align: right;\n",
       "    }\n",
       "</style>\n",
       "<table border=\"1\" class=\"dataframe\">\n",
       "  <thead>\n",
       "    <tr style=\"text-align: right;\">\n",
       "      <th></th>\n",
       "      <th>0</th>\n",
       "    </tr>\n",
       "  </thead>\n",
       "  <tbody>\n",
       "    <tr>\n",
       "      <th>0</th>\n",
       "      <td>-6.054035</td>\n",
       "    </tr>\n",
       "    <tr>\n",
       "      <th>1</th>\n",
       "      <td>8.030750</td>\n",
       "    </tr>\n",
       "    <tr>\n",
       "      <th>2</th>\n",
       "      <td>3.887985</td>\n",
       "    </tr>\n",
       "    <tr>\n",
       "      <th>3</th>\n",
       "      <td>-11.965524</td>\n",
       "    </tr>\n",
       "    <tr>\n",
       "      <th>4</th>\n",
       "      <td>4.890001</td>\n",
       "    </tr>\n",
       "  </tbody>\n",
       "</table>\n",
       "</div>"
      ],
      "text/plain": [
       "           0\n",
       "0  -6.054035\n",
       "1   8.030750\n",
       "2   3.887985\n",
       "3 -11.965524\n",
       "4   4.890001"
      ]
     },
     "execution_count": 153,
     "metadata": {},
     "output_type": "execute_result"
    }
   ],
   "source": [
    "res = pd.DataFrame(model.resid).reset_index(drop=True)\n",
    "res.head()"
   ]
  },
  {
   "cell_type": "code",
   "execution_count": 154,
   "id": "f8dbcedf",
   "metadata": {},
   "outputs": [
    {
     "data": {
      "text/html": [
       "<div>\n",
       "<style scoped>\n",
       "    .dataframe tbody tr th:only-of-type {\n",
       "        vertical-align: middle;\n",
       "    }\n",
       "\n",
       "    .dataframe tbody tr th {\n",
       "        vertical-align: top;\n",
       "    }\n",
       "\n",
       "    .dataframe thead th {\n",
       "        text-align: right;\n",
       "    }\n",
       "</style>\n",
       "<table border=\"1\" class=\"dataframe\">\n",
       "  <thead>\n",
       "    <tr style=\"text-align: right;\">\n",
       "      <th></th>\n",
       "      <th>residuales</th>\n",
       "    </tr>\n",
       "  </thead>\n",
       "  <tbody>\n",
       "    <tr>\n",
       "      <th>0</th>\n",
       "      <td>-6.054035</td>\n",
       "    </tr>\n",
       "    <tr>\n",
       "      <th>1</th>\n",
       "      <td>8.030750</td>\n",
       "    </tr>\n",
       "    <tr>\n",
       "      <th>2</th>\n",
       "      <td>3.887985</td>\n",
       "    </tr>\n",
       "    <tr>\n",
       "      <th>3</th>\n",
       "      <td>-11.965524</td>\n",
       "    </tr>\n",
       "    <tr>\n",
       "      <th>4</th>\n",
       "      <td>4.890001</td>\n",
       "    </tr>\n",
       "  </tbody>\n",
       "</table>\n",
       "</div>"
      ],
      "text/plain": [
       "   residuales\n",
       "0   -6.054035\n",
       "1    8.030750\n",
       "2    3.887985\n",
       "3  -11.965524\n",
       "4    4.890001"
      ]
     },
     "execution_count": 154,
     "metadata": {},
     "output_type": "execute_result"
    }
   ],
   "source": [
    "res = pd.DataFrame(model.resid).reset_index(drop=True)\n",
    "res = res.rename(columns={0: 'residuales'})\n",
    "res.head()"
   ]
  },
  {
   "cell_type": "code",
   "execution_count": 155,
   "id": "ee843503",
   "metadata": {},
   "outputs": [
    {
     "data": {
      "text/html": [
       "<div>\n",
       "<style scoped>\n",
       "    .dataframe tbody tr th:only-of-type {\n",
       "        vertical-align: middle;\n",
       "    }\n",
       "\n",
       "    .dataframe tbody tr th {\n",
       "        vertical-align: top;\n",
       "    }\n",
       "\n",
       "    .dataframe thead th {\n",
       "        text-align: right;\n",
       "    }\n",
       "</style>\n",
       "<table border=\"1\" class=\"dataframe\">\n",
       "  <thead>\n",
       "    <tr style=\"text-align: right;\">\n",
       "      <th></th>\n",
       "      <th>orden</th>\n",
       "    </tr>\n",
       "  </thead>\n",
       "  <tbody>\n",
       "    <tr>\n",
       "      <th>0</th>\n",
       "      <td>1</td>\n",
       "    </tr>\n",
       "    <tr>\n",
       "      <th>1</th>\n",
       "      <td>2</td>\n",
       "    </tr>\n",
       "    <tr>\n",
       "      <th>2</th>\n",
       "      <td>3</td>\n",
       "    </tr>\n",
       "    <tr>\n",
       "      <th>3</th>\n",
       "      <td>4</td>\n",
       "    </tr>\n",
       "    <tr>\n",
       "      <th>4</th>\n",
       "      <td>5</td>\n",
       "    </tr>\n",
       "  </tbody>\n",
       "</table>\n",
       "</div>"
      ],
      "text/plain": [
       "   orden\n",
       "0      1\n",
       "1      2\n",
       "2      3\n",
       "3      4\n",
       "4      5"
      ]
     },
     "execution_count": 155,
     "metadata": {},
     "output_type": "execute_result"
    }
   ],
   "source": [
    "orden = pd.DataFrame(pd.Series(range(1,12622)))\n",
    "orden = orden.rename(columns={0: 'orden'})\n",
    "orden.head()"
   ]
  },
  {
   "cell_type": "code",
   "execution_count": 156,
   "id": "492785dc",
   "metadata": {},
   "outputs": [
    {
     "data": {
      "text/html": [
       "<div>\n",
       "<style scoped>\n",
       "    .dataframe tbody tr th:only-of-type {\n",
       "        vertical-align: middle;\n",
       "    }\n",
       "\n",
       "    .dataframe tbody tr th {\n",
       "        vertical-align: top;\n",
       "    }\n",
       "\n",
       "    .dataframe thead th {\n",
       "        text-align: right;\n",
       "    }\n",
       "</style>\n",
       "<table border=\"1\" class=\"dataframe\">\n",
       "  <thead>\n",
       "    <tr style=\"text-align: right;\">\n",
       "      <th></th>\n",
       "      <th>orden</th>\n",
       "      <th>residuales</th>\n",
       "    </tr>\n",
       "  </thead>\n",
       "  <tbody>\n",
       "    <tr>\n",
       "      <th>0</th>\n",
       "      <td>1</td>\n",
       "      <td>-6.054035</td>\n",
       "    </tr>\n",
       "    <tr>\n",
       "      <th>1</th>\n",
       "      <td>2</td>\n",
       "      <td>8.030750</td>\n",
       "    </tr>\n",
       "    <tr>\n",
       "      <th>2</th>\n",
       "      <td>3</td>\n",
       "      <td>3.887985</td>\n",
       "    </tr>\n",
       "    <tr>\n",
       "      <th>3</th>\n",
       "      <td>4</td>\n",
       "      <td>-11.965524</td>\n",
       "    </tr>\n",
       "    <tr>\n",
       "      <th>4</th>\n",
       "      <td>5</td>\n",
       "      <td>4.890001</td>\n",
       "    </tr>\n",
       "  </tbody>\n",
       "</table>\n",
       "</div>"
      ],
      "text/plain": [
       "   orden  residuales\n",
       "0      1   -6.054035\n",
       "1      2    8.030750\n",
       "2      3    3.887985\n",
       "3      4  -11.965524\n",
       "4      5    4.890001"
      ]
     },
     "execution_count": 156,
     "metadata": {},
     "output_type": "execute_result"
    }
   ],
   "source": [
    "indep = pd.concat([orden, res], axis = 1)\n",
    "indep.head()"
   ]
  },
  {
   "cell_type": "code",
   "execution_count": 157,
   "id": "509b5ca5",
   "metadata": {},
   "outputs": [
    {
     "data": {
      "image/png": "[encoded data removed]",
      "text/plain": [
       "<Figure size 1440x360 with 1 Axes>"
      ]
     },
     "metadata": {
      "needs_background": "light"
     },
     "output_type": "display_data"
    }
   ],
   "source": [
    "plt.figure(figsize=(20,5))\n",
    "plt.scatter(x=indep['orden'], y=indep['residuales'])\n",
    "plt.grid(True)"
   ]
  },
  {
   "cell_type": "markdown",
   "id": "7460d3e6",
   "metadata": {},
   "source": [
    "## Predicción"
   ]
  },
  {
   "cell_type": "code",
   "execution_count": 158,
   "id": "edc0a2c0",
   "metadata": {},
   "outputs": [
    {
     "data": {
      "text/plain": [
       "1875    71.013026\n",
       "2066    70.181870\n",
       "1314    67.910847\n",
       "1979    71.767223\n",
       "1429    71.117437\n",
       "          ...    \n",
       "352     72.606887\n",
       "91      75.069871\n",
       "998     66.274827\n",
       "1824    68.481248\n",
       "2031    69.659935\n",
       "Length: 688, dtype: float64"
      ]
     },
     "execution_count": 158,
     "metadata": {},
     "output_type": "execute_result"
    }
   ],
   "source": [
    "model.predict(X_test)"
   ]
  },
  {
   "cell_type": "code",
   "execution_count": 159,
   "id": "aa055ebc",
   "metadata": {},
   "outputs": [
    {
     "data": {
      "text/html": [
       "<div>\n",
       "<style scoped>\n",
       "    .dataframe tbody tr th:only-of-type {\n",
       "        vertical-align: middle;\n",
       "    }\n",
       "\n",
       "    .dataframe tbody tr th {\n",
       "        vertical-align: top;\n",
       "    }\n",
       "\n",
       "    .dataframe thead th {\n",
       "        text-align: right;\n",
       "    }\n",
       "</style>\n",
       "<table border=\"1\" class=\"dataframe\">\n",
       "  <thead>\n",
       "    <tr style=\"text-align: right;\">\n",
       "      <th></th>\n",
       "      <th>pred1</th>\n",
       "    </tr>\n",
       "  </thead>\n",
       "  <tbody>\n",
       "    <tr>\n",
       "      <th>0</th>\n",
       "      <td>71.013026</td>\n",
       "    </tr>\n",
       "    <tr>\n",
       "      <th>1</th>\n",
       "      <td>70.181870</td>\n",
       "    </tr>\n",
       "    <tr>\n",
       "      <th>2</th>\n",
       "      <td>67.910847</td>\n",
       "    </tr>\n",
       "    <tr>\n",
       "      <th>3</th>\n",
       "      <td>71.767223</td>\n",
       "    </tr>\n",
       "    <tr>\n",
       "      <th>4</th>\n",
       "      <td>71.117437</td>\n",
       "    </tr>\n",
       "  </tbody>\n",
       "</table>\n",
       "</div>"
      ],
      "text/plain": [
       "       pred1\n",
       "0  71.013026\n",
       "1  70.181870\n",
       "2  67.910847\n",
       "3  71.767223\n",
       "4  71.117437"
      ]
     },
     "execution_count": 159,
     "metadata": {},
     "output_type": "execute_result"
    }
   ],
   "source": [
    "pred1 = pd.DataFrame(model.predict(X_test)).reset_index(drop=True)\n",
    "pred1 = pred1.rename(columns={0: 'pred1'})\n",
    "pred1.head()"
   ]
  },
  {
   "cell_type": "code",
   "execution_count": 160,
   "id": "23d959b9",
   "metadata": {},
   "outputs": [
    {
     "data": {
      "text/plain": [
       "(688, 1)"
      ]
     },
     "execution_count": 160,
     "metadata": {},
     "output_type": "execute_result"
    }
   ],
   "source": [
    "pred1.shape"
   ]
  },
  {
   "cell_type": "code",
   "execution_count": 161,
   "id": "838061a5",
   "metadata": {},
   "outputs": [
    {
     "data": {
      "text/html": [
       "<div>\n",
       "<style scoped>\n",
       "    .dataframe tbody tr th:only-of-type {\n",
       "        vertical-align: middle;\n",
       "    }\n",
       "\n",
       "    .dataframe tbody tr th {\n",
       "        vertical-align: top;\n",
       "    }\n",
       "\n",
       "    .dataframe thead th {\n",
       "        text-align: right;\n",
       "    }\n",
       "</style>\n",
       "<table border=\"1\" class=\"dataframe\">\n",
       "  <thead>\n",
       "    <tr style=\"text-align: right;\">\n",
       "      <th></th>\n",
       "      <th>Overall Rating</th>\n",
       "      <th>pred1</th>\n",
       "    </tr>\n",
       "  </thead>\n",
       "  <tbody>\n",
       "    <tr>\n",
       "      <th>0</th>\n",
       "      <td>61</td>\n",
       "      <td>71.013026</td>\n",
       "    </tr>\n",
       "    <tr>\n",
       "      <th>1</th>\n",
       "      <td>59</td>\n",
       "      <td>70.181870</td>\n",
       "    </tr>\n",
       "    <tr>\n",
       "      <th>2</th>\n",
       "      <td>67</td>\n",
       "      <td>67.910847</td>\n",
       "    </tr>\n",
       "    <tr>\n",
       "      <th>3</th>\n",
       "      <td>60</td>\n",
       "      <td>71.767223</td>\n",
       "    </tr>\n",
       "    <tr>\n",
       "      <th>4</th>\n",
       "      <td>66</td>\n",
       "      <td>71.117437</td>\n",
       "    </tr>\n",
       "  </tbody>\n",
       "</table>\n",
       "</div>"
      ],
      "text/plain": [
       "   Overall Rating      pred1\n",
       "0              61  71.013026\n",
       "1              59  70.181870\n",
       "2              67  67.910847\n",
       "3              60  71.767223\n",
       "4              66  71.117437"
      ]
     },
     "execution_count": 161,
     "metadata": {},
     "output_type": "execute_result"
    }
   ],
   "source": [
    "y_test = y_test.reset_index(drop=True)\n",
    "m1_resultados = pd.concat([y_test, pred1], axis = 1)\n",
    "m1_resultados.head()"
   ]
  },
  {
   "cell_type": "code",
   "execution_count": 162,
   "id": "e7adbd79",
   "metadata": {},
   "outputs": [
    {
     "data": {
      "text/html": [
       "<div>\n",
       "<style scoped>\n",
       "    .dataframe tbody tr th:only-of-type {\n",
       "        vertical-align: middle;\n",
       "    }\n",
       "\n",
       "    .dataframe tbody tr th {\n",
       "        vertical-align: top;\n",
       "    }\n",
       "\n",
       "    .dataframe thead th {\n",
       "        text-align: right;\n",
       "    }\n",
       "</style>\n",
       "<table border=\"1\" class=\"dataframe\">\n",
       "  <thead>\n",
       "    <tr style=\"text-align: right;\">\n",
       "      <th></th>\n",
       "      <th>Overall Rating</th>\n",
       "    </tr>\n",
       "  </thead>\n",
       "  <tbody>\n",
       "    <tr>\n",
       "      <th>0</th>\n",
       "      <td>61</td>\n",
       "    </tr>\n",
       "    <tr>\n",
       "      <th>1</th>\n",
       "      <td>59</td>\n",
       "    </tr>\n",
       "    <tr>\n",
       "      <th>2</th>\n",
       "      <td>67</td>\n",
       "    </tr>\n",
       "    <tr>\n",
       "      <th>3</th>\n",
       "      <td>60</td>\n",
       "    </tr>\n",
       "    <tr>\n",
       "      <th>4</th>\n",
       "      <td>66</td>\n",
       "    </tr>\n",
       "  </tbody>\n",
       "</table>\n",
       "</div>"
      ],
      "text/plain": [
       "   Overall Rating\n",
       "0              61\n",
       "1              59\n",
       "2              67\n",
       "3              60\n",
       "4              66"
      ]
     },
     "execution_count": 162,
     "metadata": {},
     "output_type": "execute_result"
    }
   ],
   "source": [
    "y_test.head()"
   ]
  },
  {
   "cell_type": "code",
   "execution_count": 163,
   "id": "101a1536",
   "metadata": {
    "id": "101a1536",
    "outputId": "87515882-afce-4a59-8fb6-6506eedbc384"
   },
   "outputs": [
    {
     "data": {
      "image/png": "[encoded data removed]",
      "text/plain": [
       "<Figure size 1440x360 with 1 Axes>"
      ]
     },
     "metadata": {
      "needs_background": "light"
     },
     "output_type": "display_data"
    }
   ],
   "source": [
    "plt.figure(figsize=(20,5))\n",
    "plt.plot(m1_resultados['Overall Rating']) #color azul\n",
    "plt.plot(m1_resultados['pred1']) #color naranja\n",
    "plt.grid(True)"
   ]
  },
  {
   "cell_type": "code",
   "execution_count": 164,
   "id": "eb7b574a",
   "metadata": {},
   "outputs": [],
   "source": [
    "m1_resultados = m1_resultados.head(20)"
   ]
  },
  {
   "cell_type": "code",
   "execution_count": 165,
   "id": "1a242aec",
   "metadata": {},
   "outputs": [
    {
     "ename": "KeyError",
     "evalue": "'Off_Def'",
     "output_type": "error",
     "traceback": [
      "\u001b[0;31m---------------------------------------------------------------------------\u001b[0m",
      "\u001b[0;31mKeyError\u001b[0m                                  Traceback (most recent call last)",
      "\u001b[0;32m~/opt/anaconda3/lib/python3.8/site-packages/pandas/core/indexes/base.py\u001b[0m in \u001b[0;36mget_loc\u001b[0;34m(self, key, method, tolerance)\u001b[0m\n\u001b[1;32m   3079\u001b[0m             \u001b[0;32mtry\u001b[0m\u001b[0;34m:\u001b[0m\u001b[0;34m\u001b[0m\u001b[0;34m\u001b[0m\u001b[0m\n\u001b[0;32m-> 3080\u001b[0;31m                 \u001b[0;32mreturn\u001b[0m \u001b[0mself\u001b[0m\u001b[0;34m.\u001b[0m\u001b[0m_engine\u001b[0m\u001b[0;34m.\u001b[0m\u001b[0mget_loc\u001b[0m\u001b[0;34m(\u001b[0m\u001b[0mcasted_key\u001b[0m\u001b[0;34m)\u001b[0m\u001b[0;34m\u001b[0m\u001b[0;34m\u001b[0m\u001b[0m\n\u001b[0m\u001b[1;32m   3081\u001b[0m             \u001b[0;32mexcept\u001b[0m \u001b[0mKeyError\u001b[0m \u001b[0;32mas\u001b[0m \u001b[0merr\u001b[0m\u001b[0;34m:\u001b[0m\u001b[0;34m\u001b[0m\u001b[0;34m\u001b[0m\u001b[0m\n",
      "\u001b[0;32mpandas/_libs/index.pyx\u001b[0m in \u001b[0;36mpandas._libs.index.IndexEngine.get_loc\u001b[0;34m()\u001b[0m\n",
      "\u001b[0;32mpandas/_libs/index.pyx\u001b[0m in \u001b[0;36mpandas._libs.index.IndexEngine.get_loc\u001b[0;34m()\u001b[0m\n",
      "\u001b[0;32mpandas/_libs/hashtable_class_helper.pxi\u001b[0m in \u001b[0;36mpandas._libs.hashtable.PyObjectHashTable.get_item\u001b[0;34m()\u001b[0m\n",
      "\u001b[0;32mpandas/_libs/hashtable_class_helper.pxi\u001b[0m in \u001b[0;36mpandas._libs.hashtable.PyObjectHashTable.get_item\u001b[0;34m()\u001b[0m\n",
      "\u001b[0;31mKeyError\u001b[0m: 'Off_Def'",
      "\nThe above exception was the direct cause of the following exception:\n",
      "\u001b[0;31mKeyError\u001b[0m                                  Traceback (most recent call last)",
      "\u001b[0;32m<ipython-input-165-cb2f4cef9cbe>\u001b[0m in \u001b[0;36m<module>\u001b[0;34m\u001b[0m\n\u001b[0;32m----> 1\u001b[0;31m \u001b[0moffense_df\u001b[0m \u001b[0;34m=\u001b[0m \u001b[0mdf\u001b[0m\u001b[0;34m[\u001b[0m\u001b[0mdf\u001b[0m\u001b[0;34m[\u001b[0m\u001b[0;34m'Off_Def'\u001b[0m\u001b[0;34m]\u001b[0m\u001b[0;34m==\u001b[0m\u001b[0;36m0\u001b[0m\u001b[0;34m]\u001b[0m\u001b[0;34m\u001b[0m\u001b[0;34m\u001b[0m\u001b[0m\n\u001b[0m",
      "\u001b[0;32m~/opt/anaconda3/lib/python3.8/site-packages/pandas/core/frame.py\u001b[0m in \u001b[0;36m__getitem__\u001b[0;34m(self, key)\u001b[0m\n\u001b[1;32m   3022\u001b[0m             \u001b[0;32mif\u001b[0m \u001b[0mself\u001b[0m\u001b[0;34m.\u001b[0m\u001b[0mcolumns\u001b[0m\u001b[0;34m.\u001b[0m\u001b[0mnlevels\u001b[0m \u001b[0;34m>\u001b[0m \u001b[0;36m1\u001b[0m\u001b[0;34m:\u001b[0m\u001b[0;34m\u001b[0m\u001b[0;34m\u001b[0m\u001b[0m\n\u001b[1;32m   3023\u001b[0m                 \u001b[0;32mreturn\u001b[0m \u001b[0mself\u001b[0m\u001b[0;34m.\u001b[0m\u001b[0m_getitem_multilevel\u001b[0m\u001b[0;34m(\u001b[0m\u001b[0mkey\u001b[0m\u001b[0;34m)\u001b[0m\u001b[0;34m\u001b[0m\u001b[0;34m\u001b[0m\u001b[0m\n\u001b[0;32m-> 3024\u001b[0;31m             \u001b[0mindexer\u001b[0m \u001b[0;34m=\u001b[0m \u001b[0mself\u001b[0m\u001b[0;34m.\u001b[0m\u001b[0mcolumns\u001b[0m\u001b[0;34m.\u001b[0m\u001b[0mget_loc\u001b[0m\u001b[0;34m(\u001b[0m\u001b[0mkey\u001b[0m\u001b[0;34m)\u001b[0m\u001b[0;34m\u001b[0m\u001b[0;34m\u001b[0m\u001b[0m\n\u001b[0m\u001b[1;32m   3025\u001b[0m             \u001b[0;32mif\u001b[0m \u001b[0mis_integer\u001b[0m\u001b[0;34m(\u001b[0m\u001b[0mindexer\u001b[0m\u001b[0;34m)\u001b[0m\u001b[0;34m:\u001b[0m\u001b[0;34m\u001b[0m\u001b[0;34m\u001b[0m\u001b[0m\n\u001b[1;32m   3026\u001b[0m                 \u001b[0mindexer\u001b[0m \u001b[0;34m=\u001b[0m \u001b[0;34m[\u001b[0m\u001b[0mindexer\u001b[0m\u001b[0;34m]\u001b[0m\u001b[0;34m\u001b[0m\u001b[0;34m\u001b[0m\u001b[0m\n",
      "\u001b[0;32m~/opt/anaconda3/lib/python3.8/site-packages/pandas/core/indexes/base.py\u001b[0m in \u001b[0;36mget_loc\u001b[0;34m(self, key, method, tolerance)\u001b[0m\n\u001b[1;32m   3080\u001b[0m                 \u001b[0;32mreturn\u001b[0m \u001b[0mself\u001b[0m\u001b[0;34m.\u001b[0m\u001b[0m_engine\u001b[0m\u001b[0;34m.\u001b[0m\u001b[0mget_loc\u001b[0m\u001b[0;34m(\u001b[0m\u001b[0mcasted_key\u001b[0m\u001b[0;34m)\u001b[0m\u001b[0;34m\u001b[0m\u001b[0;34m\u001b[0m\u001b[0m\n\u001b[1;32m   3081\u001b[0m             \u001b[0;32mexcept\u001b[0m \u001b[0mKeyError\u001b[0m \u001b[0;32mas\u001b[0m \u001b[0merr\u001b[0m\u001b[0;34m:\u001b[0m\u001b[0;34m\u001b[0m\u001b[0;34m\u001b[0m\u001b[0m\n\u001b[0;32m-> 3082\u001b[0;31m                 \u001b[0;32mraise\u001b[0m \u001b[0mKeyError\u001b[0m\u001b[0;34m(\u001b[0m\u001b[0mkey\u001b[0m\u001b[0;34m)\u001b[0m \u001b[0;32mfrom\u001b[0m \u001b[0merr\u001b[0m\u001b[0;34m\u001b[0m\u001b[0;34m\u001b[0m\u001b[0m\n\u001b[0m\u001b[1;32m   3083\u001b[0m \u001b[0;34m\u001b[0m\u001b[0m\n\u001b[1;32m   3084\u001b[0m         \u001b[0;32mif\u001b[0m \u001b[0mtolerance\u001b[0m \u001b[0;32mis\u001b[0m \u001b[0;32mnot\u001b[0m \u001b[0;32mNone\u001b[0m\u001b[0;34m:\u001b[0m\u001b[0;34m\u001b[0m\u001b[0;34m\u001b[0m\u001b[0m\n",
      "\u001b[0;31mKeyError\u001b[0m: 'Off_Def'"
     ]
    }
   ],
   "source": [
    "offense_df = df[df['Off_Def']==0]"
   ]
  },
  {
   "cell_type": "code",
   "execution_count": null,
   "id": "47e1363f",
   "metadata": {},
   "outputs": [],
   "source": []
  },
  {
   "cell_type": "code",
   "execution_count": null,
   "id": "6e0815fb",
   "metadata": {},
   "outputs": [],
   "source": []
  },
  {
   "cell_type": "code",
   "execution_count": null,
   "id": "c3d63d59",
   "metadata": {},
   "outputs": [],
   "source": []
  }
 ],
 "metadata": {
  "colab": {
   "name": "08_LR_exercise.ipynb",
   "provenance": []
  },
  "kernelspec": {
   "display_name": "Python 3",
   "language": "python",
   "name": "python3"
  },
  "language_info": {
   "codemirror_mode": {
    "name": "ipython",
    "version": 3
   },
   "file_extension": ".py",
   "mimetype": "text/x-python",
   "name": "python",
   "nbconvert_exporter": "python",
   "pygments_lexer": "ipython3",
   "version": "3.8.8"
  }
 },
 "nbformat": 4,
 "nbformat_minor": 5
}
